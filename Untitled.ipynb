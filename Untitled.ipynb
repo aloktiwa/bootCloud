{
 "cells": [
  {
   "cell_type": "code",
   "execution_count": 18,
   "metadata": {},
   "outputs": [
    {
     "name": "stdout",
     "output_type": "stream",
     "text": [
      "1 0 0 0 \n",
      "\n",
      "0 0 0 0 \n",
      "\n",
      "0 0 0 0 \n",
      "\n",
      "0 0 0 0 \n",
      "\n",
      "\n"
     ]
    }
   ],
   "source": [
    "global N\n",
    "N = 4\n",
    "def printSolution(board): \n",
    "    for i in range(N): \n",
    "        for j in range(N): \n",
    "            print(board[i][j],end=\" \")\n",
    "            \n",
    "        print(\"\\n\")\n",
    "    print()\n",
    "        \n",
    "def isSafe(board,row,col):\n",
    "    for i in range(col):\n",
    "        if board[row][i] == 1:\n",
    "            return False\n",
    "    \n",
    "    for i,j in zip(range(row,-1,-1),range(col,-1,-1)):\n",
    "        if board[i][j] == 1:\n",
    "            return False\n",
    "    for i,j in zip(range(row,N,1),range(col,-1,-1)):\n",
    "        if board[i][j] == 1:\n",
    "            return False\n",
    "        \n",
    "    return True\n",
    "def solveNQL(board,col):\n",
    "    if col >= N:\n",
    "        printSolution(board)\n",
    "        return True\n",
    "    for i in range(N):\n",
    "        if isSafe(board,i,col):\n",
    "            board[i][col] = 1\n",
    "        if solveNQL(board,col+1) == True:\n",
    "            return True\n",
    "        \n",
    "        board[i][col] = 0\n",
    "    \n",
    "    return False\n",
    "    \n",
    "def solveNQ():\n",
    "    board = [ [0,0,0,0],[0,0,0,0],[0,0,0,0],[0,0,0,0]]\n",
    "    if solveNQL(board,0) == False:\n",
    "        print(\"Solution not found\")\n",
    "        return False\n",
    "    #printSolution(board)\n",
    "    return True\n",
    "\n",
    "\n",
    "if __name__ == \"__main__\":\n",
    "     solveNQ()\n",
    "\n"
   ]
  },
  {
   "cell_type": "code",
   "execution_count": null,
   "metadata": {},
   "outputs": [],
   "source": []
  }
 ],
 "metadata": {
  "kernelspec": {
   "display_name": "Python 3",
   "language": "python",
   "name": "python3"
  },
  "language_info": {
   "codemirror_mode": {
    "name": "ipython",
    "version": 3
   },
   "file_extension": ".py",
   "mimetype": "text/x-python",
   "name": "python",
   "nbconvert_exporter": "python",
   "pygments_lexer": "ipython3",
   "version": "3.7.4"
  }
 },
 "nbformat": 4,
 "nbformat_minor": 4
}
